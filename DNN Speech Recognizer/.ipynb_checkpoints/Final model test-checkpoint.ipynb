{
 "cells": [
  {
   "cell_type": "code",
   "execution_count": 8,
   "metadata": {},
   "outputs": [],
   "source": [
    "from keras import backend as K\n",
    "from keras.models import Model\n",
    "from keras.layers import (BatchNormalization, Conv1D, Dense, Input, \n",
    "    TimeDistributed, Activation, Bidirectional, SimpleRNN, GRU, LSTM, MaxPooling1D, Dropout)\n",
    "\n",
    "# using l2 regularization\n",
    "from keras.regularizers import l2"
   ]
  },
  {
   "cell_type": "code",
   "execution_count": 15,
   "metadata": {},
   "outputs": [],
   "source": [
    "def final_model(input_dim, filters, kernel_size, stride,\n",
    "    padding, units, recur_layers, output_dim=29, l2_lambda=0.001, dropout=0.2):\n",
    "    \"\"\" Build a deep network for speech \n",
    "    \"\"\"\n",
    "    # Main acoustic input\n",
    "    input_data = Input(name='the_input', shape=(None, input_dim))\n",
    "    # TODO: Specify the layers in your network\n",
    "#     input_rnn = Bidirectional(GRU(units, activation='relu',\n",
    "#                             return_sequences=True, kernel_regularizer=l2(l2_lambda),\n",
    "#                             recurrent_regularizer=l2(l2_lambda), name='input_gru_withl2'))(input_data)\n",
    "    \n",
    "#     # apply batch normalization\n",
    "#     input_bn = BatchNormalization(name='batch_normal')(input_rnn)\n",
    "\n",
    "    # Aconvolutional layer\n",
    "    conv_1d = Conv1D(filters, kernel_size, \n",
    "                     strides=stride, \n",
    "                     padding=padding,\n",
    "                     activation='relu',\n",
    "                     name='conv1d')(input_data)\n",
    "    # add max poling\n",
    "    pool = MaxPooling1D(strides=stride, name='pooling')(conv_1d)\n",
    "    \n",
    "    # Add batch normalization\n",
    "    bn_cnn = BatchNormalization(name='bn_conv_1d')(pool)\n",
    "\n",
    "\n",
    "    last_layer = bn_cnn \n",
    "    \n",
    "    for i in range(recur_layers):\n",
    "        rnn_name = 'recure_rnn' + str(i)\n",
    "        batch_name = 'recure_batch_normal' + str(i)\n",
    "        \n",
    "        rnn_layer = GRU(units, activation=\"relu\",return_sequences=True, \n",
    "                 name=rnn_name, kernel_regularizer=l2(l2_lambda), dropout=dropout,\n",
    "                 recurrent_regularizer=l2(l2_lambda))(last_layer)\n",
    "\n",
    "        bn_layer = BatchNormalization(name=batch_name)(rnn_layer)\n",
    "        last_layer = bn_layer\n",
    "        \n",
    "    # TODO: Add a TimeDistributed(Dense(output_dim)) layer\n",
    "    time_dense = TimeDistributed(Dense(output_dim, kernel_regularizer=l2(l2_lambda), name='dense_layer'))(last_layer)\n",
    "    # TODO: Add softmax activation layer\n",
    "    y_pred = Activation('softmax')(time_dense)\n",
    "    # Specify the model\n",
    "    model = Model(inputs=input_data, outputs=y_pred)\n",
    "    # TODO: Specify model.output_length\n",
    "    model.output_length = lambda x: cnn_output_length(x, kernel_size, padding, stride)\n",
    "    print(model.summary())\n",
    "    return model"
   ]
  },
  {
   "cell_type": "code",
   "execution_count": 16,
   "metadata": {},
   "outputs": [
    {
     "name": "stdout",
     "output_type": "stream",
     "text": [
      "_________________________________________________________________\n",
      "Layer (type)                 Output Shape              Param #   \n",
      "=================================================================\n",
      "the_input (InputLayer)       (None, None, 161)         0         \n",
      "_________________________________________________________________\n",
      "conv1d (Conv1D)              (None, None, 256)         206336    \n",
      "_________________________________________________________________\n",
      "pooling (MaxPooling1D)       (None, None, 256)         0         \n",
      "_________________________________________________________________\n",
      "bn_conv_1d (BatchNormalizati (None, None, 256)         1024      \n",
      "_________________________________________________________________\n",
      "recure_rnn0 (GRU)            (None, None, 200)         274200    \n",
      "_________________________________________________________________\n",
      "recure_batch_normal0 (BatchN (None, None, 200)         800       \n",
      "_________________________________________________________________\n",
      "recure_rnn1 (GRU)            (None, None, 200)         240600    \n",
      "_________________________________________________________________\n",
      "recure_batch_normal1 (BatchN (None, None, 200)         800       \n",
      "_________________________________________________________________\n",
      "time_distributed_6 (TimeDist (None, None, 29)          5829      \n",
      "_________________________________________________________________\n",
      "activation_6 (Activation)    (None, None, 29)          0         \n",
      "=================================================================\n",
      "Total params: 729,589\n",
      "Trainable params: 728,277\n",
      "Non-trainable params: 1,312\n",
      "_________________________________________________________________\n",
      "None\n"
     ]
    }
   ],
   "source": [
    "model_end = final_model(input_dim=161,\n",
    "                        filters=256,\n",
    "                        kernel_size=5, \n",
    "                        stride=2,\n",
    "                        padding='valid',\n",
    "                        units=200, \n",
    "                        recur_layers=2)"
   ]
  }
 ],
 "metadata": {
  "kernelspec": {
   "display_name": "Python 3",
   "language": "python",
   "name": "python3"
  },
  "language_info": {
   "codemirror_mode": {
    "name": "ipython",
    "version": 3
   },
   "file_extension": ".py",
   "mimetype": "text/x-python",
   "name": "python",
   "nbconvert_exporter": "python",
   "pygments_lexer": "ipython3",
   "version": "3.6.3"
  }
 },
 "nbformat": 4,
 "nbformat_minor": 2
}
